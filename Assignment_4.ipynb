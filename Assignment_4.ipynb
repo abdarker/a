{
  "nbformat": 4,
  "nbformat_minor": 0,
  "metadata": {
    "colab": {
      "name": "Assignment 4.ipynb",
      "provenance": [],
      "collapsed_sections": []
    },
    "kernelspec": {
      "name": "python3",
      "display_name": "Python 3"
    },
    "language_info": {
      "name": "python"
    }
  },
  "cells": [
    {
      "cell_type": "markdown",
      "source": [
        "**==================Task 1=======================**"
      ],
      "metadata": {
        "id": "Qb3vx1g3x_nE"
      }
    },
    {
      "cell_type": "code",
      "source": [
        "import numpy as np"
      ],
      "metadata": {
        "id": "cM1D_kFASvKQ"
      },
      "execution_count": null,
      "outputs": []
    },
    {
      "cell_type": "code",
      "source": [
        "class PerceptronN:\n",
        "  \n",
        "  \n",
        "\n",
        "  def __init__(self, it):\n",
        "    self.it=it\n",
        "    \n",
        "  def fit(self,tv_x,tv_y):\n",
        "    \n",
        "    x= tv_x.shape[0]  # 691\n",
        "    n= tv_x.shape[1]  # 8 features \n",
        "    \n",
        "    w= np.random.rand(n+1) # init weight vector randomly\n",
        "    WX=[]\n",
        "\n",
        "\n",
        "    for i in range(self.it): # max iteration\n",
        "\n",
        "      for i in range(x):\n",
        "\n",
        "        WXi = self.checkzeroone(np.dot(w, tv_x[i]) + 1)     # dot product of W and each tv_x[i]\n",
        "        WX.append(WXi)   #stored 0/1  \n",
        "\n",
        "\n",
        "\n",
        "      weightvec = []\n",
        "\n",
        "      for i in range(x):\n",
        "      \n",
        "        weightvec.clear() # emptying list\n",
        "\n",
        "        if WX[i] != tv_y[i]:    #misclassified  entry\n",
        "\n",
        "          weightvec[i] = 1     \n",
        "        else:\n",
        "          weightvec[i] = -1\n",
        "\n",
        "        sub = tv_y[i] - weightvec[i]   # i am not sure if this is right thing to do\n",
        "\n",
        "        WX[i] =  tv_x[i] * sub # storing updated weight (not sure)\n",
        "    \n",
        "    \n",
        "    return np.array(WX) # returning as numpy  array\n",
        "\n",
        "\n",
        "\n",
        "        \n",
        "  def checkzeroone(val):\n",
        "\n",
        "    if val>=0:\n",
        "      return 1\n",
        "    else:\n",
        "      return 0\n",
        "    \n",
        "\n",
        "  def predict(self,test_x):\n",
        "\n",
        "    P_WX = []\n",
        "\n",
        "    for i in range(self.x):\n",
        "\n",
        "      PWXi = self.checkzeroone(np.dot( w, test_x[i]) + 1)     # same as fit\n",
        "      P_WX.append(PWXi) \n",
        "  \n",
        "    return np.array(P_WX)\n",
        "\n",
        "  "
      ],
      "metadata": {
        "id": "-auBUVe9x-zD"
      },
      "execution_count": 3,
      "outputs": []
    },
    {
      "cell_type": "markdown",
      "source": [
        "**================Task 2===================**"
      ],
      "metadata": {
        "id": "PmET4PiaSEJ9"
      }
    },
    {
      "cell_type": "code",
      "source": [
        "class PerceptronRP:\n",
        "\n",
        "\n",
        "  def __init__(self, it):\n",
        "    self.it=it\n",
        "    \n",
        "  def fit(self,tv_x,tv_y):\n",
        "    \n",
        "    x= tv_x.shape[0]  # 691\n",
        "    n= tv_x.shape[1]  # 8 features \n",
        "    \n",
        "    w= np.random.rand(n+1) # init weight vector randomly\n",
        "\n",
        "    WX=[]\n",
        "\n",
        "\n",
        "    for i in range(self.it): # max iteration\n",
        "\n",
        " \n",
        "      for i in range(x):\n",
        "\n",
        "        WXi = self.checkzeroone(np.dot(w, tv_x[i]) + 1)     # dot product of W and each tv_x[i]\n",
        "        WX.append(WXi)   #stored 0/1  \n",
        "\n",
        "      # here i didn't maintain the list for task 2\n",
        "      for i in range(x):\n",
        "        \n",
        "        if WX[i] != tv_y[i]:  \n",
        "\n",
        "          sub = tv_y[i] - WX[i]   \n",
        "          WX[i] =  tv_x[i] * sub \n",
        "    \n",
        "    \n",
        "    return np.array(WX) # returning as numpy  array\n",
        "\n",
        "\n",
        "        \n",
        "  def checkzeroone(val):\n",
        "\n",
        "    if val>=0:\n",
        "      return 1\n",
        "    else:\n",
        "      return 0\n",
        "    \n",
        "\n",
        "  def predict(self,test_x):\n",
        "\n",
        "    P_WX = []\n",
        "\n",
        "    for i in range(self.x):\n",
        "\n",
        "      PWXi = self.checkzeroone(np.dot( w, test_x[i]) + 1)     # same as fit\n",
        "      P_WX.append(PWXi) \n",
        "  \n",
        "    return np.array(P_WX)\n",
        "\n",
        "\n",
        "\n"
      ],
      "metadata": {
        "colab": {
          "base_uri": "https://localhost:8080/",
          "height": 131
        },
        "id": "RVuX6_-YSJWm",
        "outputId": "79261ce9-3dc6-4b05-8c11-078119a71633"
      },
      "execution_count": 4,
      "outputs": [
        {
          "output_type": "error",
          "ename": "SyntaxError",
          "evalue": "ignored",
          "traceback": [
            "\u001b[0;36m  File \u001b[0;32m\"<ipython-input-4-2a00c61884e9>\"\u001b[0;36m, line \u001b[0;32m4\u001b[0m\n\u001b[0;31m    \u001b[0m\n\u001b[0m    ^\u001b[0m\n\u001b[0;31mSyntaxError\u001b[0m\u001b[0;31m:\u001b[0m unexpected EOF while parsing\n"
          ]
        }
      ]
    },
    {
      "cell_type": "code",
      "execution_count": null,
      "metadata": {
        "id": "PaNY9GS-mhdR"
      },
      "outputs": [],
      "source": [
        "import pandas as pd\n",
        "import numpy as np\n",
        "from sklearn.linear_model import Perceptron\n",
        "from sklearn.metrics import accuracy_score, f1_score\n",
        "\n",
        "data = pd.read_csv('https://raw.githubusercontent.com/abdarker/dataset/master/pima-diabetes.csv')\n",
        "\n",
        "from sklearn.model_selection import train_test_split\n",
        "\n",
        "data_x = data.loc[:,data.columns!='Outcome']\n",
        "data_y = data['Outcome']\n",
        "tv_x, test_x, tv_y, test_y = train_test_split(data_x, data_y,\n",
        "                                                    test_size=0.1,\n",
        "                                                    random_state=1,\n",
        "                                                    stratify=data_y)   #from 9th class lecture \n",
        "\n",
        "\n",
        "########### with Sklearn ############\n",
        "with_sk_lib= Perceptron()\n",
        "\n",
        "with_sk_lib.fit(tv_x,tv_y)\n",
        "predicted_score =with_sk_lib.predict(test_x)\n",
        "\n",
        "print(accuracy_score(test_y,predicted_score)*100)\n",
        "print(f1_score(test_y,predicted_score)*100)\n",
        "\n",
        "########### Task no. 1 stuffs ############\n",
        "iteration = 500\n",
        "first_task= PerceptronN(iteration)\n",
        "\n",
        "first_task.fit(tv_x, tv_y)\n",
        "\n",
        "first_task_predicted= first_task.predict(test_x)\n",
        "\n",
        "print(accuracy_score(test_y, first_task_predicted)*100)\n",
        "print(f1_score(test_y, first_task_predicted)*100)\n",
        "\n",
        "########### Task no. 2 stuffs ############\n",
        "second_task= PerceptronRP(iteration)\n",
        "\n",
        "second_task.fit(tv_x, tv_y)\n",
        "\n",
        "second_task_predicted= second_task.predict(test_x)\n",
        "\n",
        "print(accuracy_score(test_y, second_task_predicted)*100)\n",
        "print(f1_score(test_y, second_task_predicted)*100)\n"
      ]
    }
  ]
}